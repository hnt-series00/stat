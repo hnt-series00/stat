{
 "cells": [
  {
   "cell_type": "code",
   "execution_count": 120,
   "source": [
    "# ライブラリ\n",
    "import random\n",
    "import pandas as pd\n",
    "import numpy as np\n",
    "from scipy import stats\n",
    "%matplotlib inline\n",
    "import matplotlib.pyplot as plt\n",
    "# warning非表示\n",
    "import warnings\n",
    "warnings.simplefilter('ignore')"
   ],
   "outputs": [],
   "metadata": {}
  },
  {
   "cell_type": "markdown",
   "source": [
    "# 記述統計量"
   ],
   "metadata": {}
  },
  {
   "cell_type": "markdown",
   "source": [
    "## 基本統計量"
   ],
   "metadata": {}
  },
  {
   "cell_type": "code",
   "execution_count": 121,
   "source": [
    "# csvファイルの読み込み\n",
    "# 400人の生徒のテストの点数のデータ\n",
    "df = pd.read_csv('./scores_400.csv')\n",
    "print(df)\n",
    "\n",
    "# 基本統計量\n",
    "print(df.describe())"
   ],
   "outputs": [
    {
     "output_type": "stream",
     "name": "stdout",
     "text": [
      "     score\n",
      "0       76\n",
      "1       55\n",
      "2       80\n",
      "3       80\n",
      "4       74\n",
      "..     ...\n",
      "395     77\n",
      "396     60\n",
      "397     83\n",
      "398     80\n",
      "399     85\n",
      "\n",
      "[400 rows x 1 columns]\n",
      "            score\n",
      "count  400.000000\n",
      "mean    69.530000\n",
      "std     14.393994\n",
      "min     23.000000\n",
      "25%     60.000000\n",
      "50%     69.000000\n",
      "75%     80.000000\n",
      "max    100.000000\n"
     ]
    }
   ],
   "metadata": {}
  },
  {
   "cell_type": "code",
   "execution_count": 122,
   "source": [
    "# 一応個別で重要な基本統計量を\n",
    "# サンプルサイズ\n",
    "print('サンプルサイズ:', len(df['score']))\n",
    "\n",
    "# 平均値\n",
    "print('平均値:', np.mean(df['score']))\n",
    "\n",
    "# 中央値\n",
    "print('中央値:', np.median(df['score']))\n",
    "\n",
    "# 最大値\n",
    "print('最大値:', np.max(df['score']))\n",
    "\n",
    "# 最小値\n",
    "print('最小値:', np.min(df['score']))\n",
    "\n",
    "# 最頻値\n",
    "print('最頻値:', stats.mode(df['score']))\n",
    "\n",
    "# 標本分散\n",
    "print('分散:', np.var(df['score'], ddof=0))\n",
    "# 標準偏差\n",
    "print('標準偏差:', np.std(df['score'], ddof=0))\n",
    "\n",
    "# 不偏分散\n",
    "print('不偏分散(Pandas):', df['score'].var())\n",
    "#print('不偏分散(Numpy):', np.var(df['score'], ddof=1))\n",
    "\n",
    "# 不偏標準偏差\n",
    "print('不偏標準偏差(Pandas):', df['score'].std())\n",
    "#print('不偏標準偏差(Numpy):', np.std(df['score'], ddof=1))"
   ],
   "outputs": [
    {
     "output_type": "stream",
     "name": "stdout",
     "text": [
      "サンプルサイズ: 400\n",
      "平均値: 69.53\n",
      "中央値: 69.0\n",
      "最大値: 100\n",
      "最小値: 23\n",
      "最頻値: ModeResult(mode=array([68]), count=array([16]))\n",
      "分散: 206.6691\n",
      "標準偏差: 14.375990400664575\n",
      "不偏分散(Pandas): 207.18706766917293\n",
      "不偏標準偏差(Pandas): 14.39399415274207\n"
     ]
    }
   ],
   "metadata": {}
  },
  {
   "cell_type": "markdown",
   "source": [
    "- Numpyはddofで指定することにより、自由度を選べる（デフォルトはddof = 0の標本分散）<br>\n",
    "- Pandasのデフォルトは全て<b>不偏分散、不偏標準偏差</b>になっているため注意"
   ],
   "metadata": {}
  },
  {
   "cell_type": "markdown",
   "source": [
    "## 度数分布表\n",
    "[Qiita - Pythonで度数分布表を一発で自動生成する@TakuTaku36](https://qiita.com/TakuTaku36/items/91032625e482f2ae6e18)"
   ],
   "metadata": {}
  },
  {
   "cell_type": "code",
   "execution_count": 123,
   "source": [
    "# 母集団から50人を抽出\n",
    "scores = df[0:50]"
   ],
   "outputs": [],
   "metadata": {}
  },
  {
   "cell_type": "code",
   "execution_count": 124,
   "source": [
    "def Frequency_Distribution(data, class_width=None):\n",
    "    data = np.asarray(data)\n",
    "    if class_width is None:\n",
    "        class_size = int(np.log2(data.size).round()) + 1\n",
    "        class_width = round((data.max() - data.min()) / class_size)\n",
    "\n",
    "    bins = np.arange(0, data.max()+class_width+1, class_width)\n",
    "    hist = np.histogram(data, bins)[0]\n",
    "    cumsum = hist.cumsum()\n",
    "\n",
    "    return pd.DataFrame({'階級値': (bins[1:] + bins[:-1]) / 2,\n",
    "                         '度数': hist,\n",
    "                         '累積度数': cumsum,\n",
    "                         '相対度数': hist / cumsum[-1],\n",
    "                         '累積相対度数': cumsum / cumsum[-1]},\n",
    "                        index=pd.Index([f'{bins[i]}以上{bins[i+1]}未満'\n",
    "                                        for i in range(hist.size)],\n",
    "                                       name='階級'))\n",
    "Frequency_Distribution(scores)"
   ],
   "outputs": [
    {
     "output_type": "execute_result",
     "data": {
      "text/plain": [
       "            階級値  度数  累積度数  相対度数  累積相対度数\n",
       "階級                                     \n",
       "0以上10未満     5.0   0     0  0.00    0.00\n",
       "10以上20未満   15.0   0     0  0.00    0.00\n",
       "20以上30未満   25.0   1     1  0.02    0.02\n",
       "30以上40未満   35.0   0     1  0.00    0.02\n",
       "40以上50未満   45.0   3     4  0.06    0.08\n",
       "50以上60未満   55.0   6    10  0.12    0.20\n",
       "60以上70未満   65.0   9    19  0.18    0.38\n",
       "70以上80未満   75.0  15    34  0.30    0.68\n",
       "80以上90未満   85.0  13    47  0.26    0.94\n",
       "90以上100未満  95.0   3    50  0.06    1.00"
      ],
      "text/html": [
       "<div>\n",
       "<style scoped>\n",
       "    .dataframe tbody tr th:only-of-type {\n",
       "        vertical-align: middle;\n",
       "    }\n",
       "\n",
       "    .dataframe tbody tr th {\n",
       "        vertical-align: top;\n",
       "    }\n",
       "\n",
       "    .dataframe thead th {\n",
       "        text-align: right;\n",
       "    }\n",
       "</style>\n",
       "<table border=\"1\" class=\"dataframe\">\n",
       "  <thead>\n",
       "    <tr style=\"text-align: right;\">\n",
       "      <th></th>\n",
       "      <th>階級値</th>\n",
       "      <th>度数</th>\n",
       "      <th>累積度数</th>\n",
       "      <th>相対度数</th>\n",
       "      <th>累積相対度数</th>\n",
       "    </tr>\n",
       "    <tr>\n",
       "      <th>階級</th>\n",
       "      <th></th>\n",
       "      <th></th>\n",
       "      <th></th>\n",
       "      <th></th>\n",
       "      <th></th>\n",
       "    </tr>\n",
       "  </thead>\n",
       "  <tbody>\n",
       "    <tr>\n",
       "      <th>0以上10未満</th>\n",
       "      <td>5.0</td>\n",
       "      <td>0</td>\n",
       "      <td>0</td>\n",
       "      <td>0.00</td>\n",
       "      <td>0.00</td>\n",
       "    </tr>\n",
       "    <tr>\n",
       "      <th>10以上20未満</th>\n",
       "      <td>15.0</td>\n",
       "      <td>0</td>\n",
       "      <td>0</td>\n",
       "      <td>0.00</td>\n",
       "      <td>0.00</td>\n",
       "    </tr>\n",
       "    <tr>\n",
       "      <th>20以上30未満</th>\n",
       "      <td>25.0</td>\n",
       "      <td>1</td>\n",
       "      <td>1</td>\n",
       "      <td>0.02</td>\n",
       "      <td>0.02</td>\n",
       "    </tr>\n",
       "    <tr>\n",
       "      <th>30以上40未満</th>\n",
       "      <td>35.0</td>\n",
       "      <td>0</td>\n",
       "      <td>1</td>\n",
       "      <td>0.00</td>\n",
       "      <td>0.02</td>\n",
       "    </tr>\n",
       "    <tr>\n",
       "      <th>40以上50未満</th>\n",
       "      <td>45.0</td>\n",
       "      <td>3</td>\n",
       "      <td>4</td>\n",
       "      <td>0.06</td>\n",
       "      <td>0.08</td>\n",
       "    </tr>\n",
       "    <tr>\n",
       "      <th>50以上60未満</th>\n",
       "      <td>55.0</td>\n",
       "      <td>6</td>\n",
       "      <td>10</td>\n",
       "      <td>0.12</td>\n",
       "      <td>0.20</td>\n",
       "    </tr>\n",
       "    <tr>\n",
       "      <th>60以上70未満</th>\n",
       "      <td>65.0</td>\n",
       "      <td>9</td>\n",
       "      <td>19</td>\n",
       "      <td>0.18</td>\n",
       "      <td>0.38</td>\n",
       "    </tr>\n",
       "    <tr>\n",
       "      <th>70以上80未満</th>\n",
       "      <td>75.0</td>\n",
       "      <td>15</td>\n",
       "      <td>34</td>\n",
       "      <td>0.30</td>\n",
       "      <td>0.68</td>\n",
       "    </tr>\n",
       "    <tr>\n",
       "      <th>80以上90未満</th>\n",
       "      <td>85.0</td>\n",
       "      <td>13</td>\n",
       "      <td>47</td>\n",
       "      <td>0.26</td>\n",
       "      <td>0.94</td>\n",
       "    </tr>\n",
       "    <tr>\n",
       "      <th>90以上100未満</th>\n",
       "      <td>95.0</td>\n",
       "      <td>3</td>\n",
       "      <td>50</td>\n",
       "      <td>0.06</td>\n",
       "      <td>1.00</td>\n",
       "    </tr>\n",
       "  </tbody>\n",
       "</table>\n",
       "</div>"
      ]
     },
     "metadata": {},
     "execution_count": 124
    }
   ],
   "metadata": {}
  },
  {
   "cell_type": "markdown",
   "source": [],
   "metadata": {}
  },
  {
   "cell_type": "markdown",
   "source": [
    "## ヒストグラム"
   ],
   "metadata": {}
  },
  {
   "cell_type": "code",
   "execution_count": 125,
   "source": [
    "fig = plt.figure(figsize=(8, 6))\n",
    "ax = fig.add_subplot(111)\n",
    "\n",
    "freq, _ , _ = ax.hist(scores, bins=10, range=(0, 100))\n",
    "ax.set_xlabel('score')\n",
    "ax.set_ylabel('Number of people')\n",
    "ax.set_xticks(np.linspace(0, 100, 10+1))\n",
    "ax.set_yticks(np.arange(0, freq.max()+1))\n",
    "plt.show()"
   ],
   "outputs": [
    {
     "output_type": "display_data",
     "data": {
      "text/plain": [
       "<Figure size 576x432 with 1 Axes>"
      ],
      "image/png": "[encoded data removed]"
     },
     "metadata": {
      "needs_background": "light"
     }
    }
   ],
   "metadata": {}
  },
  {
   "cell_type": "markdown",
   "source": [
    "## 箱ひげ図"
   ],
   "metadata": {}
  },
  {
   "cell_type": "code",
   "execution_count": 128,
   "source": [
    "fig = plt.figure(figsize=(8, 6))\n",
    "ax = fig.add_subplot(111)\n",
    "ax.boxplot(scores, labels = ['score'], sym='')\n",
    "plt.show()"
   ],
   "outputs": [
    {
     "output_type": "display_data",
     "data": {
      "text/plain": [
       "<Figure size 576x432 with 1 Axes>"
      ],
      "image/png": "[encoded data removed]"
     },
     "metadata": {
      "needs_background": "light"
     }
    }
   ],
   "metadata": {}
  },
  {
   "cell_type": "markdown",
   "source": [
    "### はずれ値（テストの点数という例はあまりよくないが、、）"
   ],
   "metadata": {}
  },
  {
   "cell_type": "code",
   "execution_count": 129,
   "source": [
    "# 120点という外れ値を追加\n",
    "scores_new = scores.append({'score':120},ignore_index=True)\n",
    "scores_new\n",
    "\n",
    "# 箱ひげ図\n",
    "fig = plt.figure(figsize=(8, 6))\n",
    "ax = fig.add_subplot(111)\n",
    "ax.boxplot(scores_new, labels = ['score'])\n",
    "plt.show()\n",
    "\n",
    "# 第三四分位数(75%点), 第一四分位数(25%点)を取得\n",
    "q75, q25 = np.percentile(scores_new, [75 ,25])\n",
    "iqr = q75 - q25\n",
    "# 下限\n",
    "lower = q25 - (iqr * 1.5)\n",
    "# 上限\n",
    "upper = q75 + (iqr * 1.5)\n",
    "print(\"第一四分位数(25%点):\", q25)\n",
    "print(\"第三四分位数(75%点):\", q75)\n",
    "print(\"四分位範囲:\", iqr)\n",
    "print('下限:',lower)\n",
    "print('上限:',upper)"
   ],
   "outputs": [
    {
     "output_type": "display_data",
     "data": {
      "text/plain": [
       "<Figure size 576x432 with 1 Axes>"
      ],
      "image/png": "[encoded data removed]"
     },
     "metadata": {
      "needs_background": "light"
     }
    },
    {
     "output_type": "stream",
     "name": "stdout",
     "text": [
      "第一四分位数(25%点): 64.5\n",
      "第三四分位数(75%点): 80.5\n",
      "四分位範囲: 16.0\n",
      "下限: 40.5\n",
      "上限: 104.5\n"
     ]
    }
   ],
   "metadata": {}
  },
  {
   "cell_type": "markdown",
   "source": [],
   "metadata": {}
  },
  {
   "cell_type": "markdown",
   "source": [
    "# 統計的推定"
   ],
   "metadata": {}
  },
  {
   "cell_type": "markdown",
   "source": [
    "## 推測統計の一例"
   ],
   "metadata": {}
  },
  {
   "cell_type": "markdown",
   "source": [
    "Aさんの学年では400人の生徒がいる。定期テストが開かれAさんの数学の点数は80点だった。しかし学年の平均点が公表されず、Aさんは自分の学力がどのレベルにあるのか分からなくて困っている。全員に点数を聞くのは不可能なため、たまたますれ違った20人に点数を聞き平均を求めた結果「70点」であったため、自分の点数が平均より上で満足できた。"
   ],
   "metadata": {}
  },
  {
   "cell_type": "code",
   "execution_count": 19,
   "source": [
    "# 先ほどのデータを使用\n",
    "df.head()"
   ],
   "outputs": [
    {
     "output_type": "execute_result",
     "data": {
      "text/plain": [
       "   score\n",
       "0     76\n",
       "1     55\n",
       "2     80\n",
       "3     80\n",
       "4     74"
      ],
      "text/html": [
       "<div>\n",
       "<style scoped>\n",
       "    .dataframe tbody tr th:only-of-type {\n",
       "        vertical-align: middle;\n",
       "    }\n",
       "\n",
       "    .dataframe tbody tr th {\n",
       "        vertical-align: top;\n",
       "    }\n",
       "\n",
       "    .dataframe thead th {\n",
       "        text-align: right;\n",
       "    }\n",
       "</style>\n",
       "<table border=\"1\" class=\"dataframe\">\n",
       "  <thead>\n",
       "    <tr style=\"text-align: right;\">\n",
       "      <th></th>\n",
       "      <th>score</th>\n",
       "    </tr>\n",
       "  </thead>\n",
       "  <tbody>\n",
       "    <tr>\n",
       "      <th>0</th>\n",
       "      <td>76</td>\n",
       "    </tr>\n",
       "    <tr>\n",
       "      <th>1</th>\n",
       "      <td>55</td>\n",
       "    </tr>\n",
       "    <tr>\n",
       "      <th>2</th>\n",
       "      <td>80</td>\n",
       "    </tr>\n",
       "    <tr>\n",
       "      <th>3</th>\n",
       "      <td>80</td>\n",
       "    </tr>\n",
       "    <tr>\n",
       "      <th>4</th>\n",
       "      <td>74</td>\n",
       "    </tr>\n",
       "  </tbody>\n",
       "</table>\n",
       "</div>"
      ]
     },
     "metadata": {},
     "execution_count": 19
    }
   ],
   "metadata": {}
  },
  {
   "cell_type": "markdown",
   "source": [
    "## 無作為抽出"
   ],
   "metadata": {}
  },
  {
   "cell_type": "code",
   "execution_count": 30,
   "source": [
    "# 無作為抽出にはnp.ramdom.choice()を使用\n",
    "print(np.random.choice([0,1,2,3,4], 5)) # 復元抽出\n",
    "print(np.random.choice([0,1,2,3,4], 5, replace=False)) # 非復元抽出"
   ],
   "outputs": [
    {
     "output_type": "stream",
     "name": "stdout",
     "text": [
      "[0 0 4 0 3]\n",
      "[2 0 4 3 1]\n"
     ]
    }
   ],
   "metadata": {}
  },
  {
   "cell_type": "markdown",
   "source": [
    "np.random.choice関数はデフォルトでは<b>復元抽出</b>（複数回同じ標本を選ぶ抽出方法）を行っている。<br>\n",
    "np.random.choiceの引数replaceをFalseにすることで<b>非復元抽出</b>（同じ標本を一度しか選ばない方法）を行うことができる。<br>\n",
    "\n",
    "非復元抽出では、個体を取り出すたびに母集団から個体が減っていくので、毎回の試行は試行として独立ではない。<br>\n",
    "一方、復元抽出では毎回全く同じ母集団から個体を取り出すことになるので、毎回の試行は互いに独立であり、独立試行になる。<br>"
   ],
   "metadata": {}
  },
  {
   "cell_type": "code",
   "execution_count": 49,
   "source": [
    "# 母平均を算出\n",
    "df['score'].mean()"
   ],
   "outputs": [
    {
     "output_type": "execute_result",
     "data": {
      "text/plain": [
       "69.53"
      ]
     },
     "metadata": {},
     "execution_count": 49
    }
   ],
   "metadata": {}
  },
  {
   "cell_type": "markdown",
   "source": [
    "母平均は69.53点であるため、Aさんが始めに20人に聞いて算出した70点という標本平均の推測はなかなかよさそう<br>\n",
    "\n",
    "では、実際に無作為抽出を行ってその標本平均の計算を何回か行ってみる。"
   ],
   "metadata": {}
  },
  {
   "cell_type": "code",
   "execution_count": 50,
   "source": [
    "# 無作為抽出を行い,標本平均を計算する\n",
    "np.random.seed(3)\n",
    "for i in range(5):\n",
    "    sample = np.random.choice(df['score'], 20).mean()\n",
    "    print(f'{i+1}回目の無作為抽出で得た標本平均', sample)"
   ],
   "outputs": [
    {
     "output_type": "stream",
     "name": "stdout",
     "text": [
      "1回目の無作為抽出で得た標本平均 68.65\n",
      "2回目の無作為抽出で得た標本平均 72.6\n",
      "3回目の無作為抽出で得た標本平均 68.95\n",
      "4回目の無作為抽出で得た標本平均 68.45\n",
      "5回目の無作為抽出で得た標本平均 69.55\n"
     ]
    }
   ],
   "metadata": {}
  },
  {
   "cell_type": "markdown",
   "source": [
    "標本平均は大体70点前後になっているが、それなりにばらつきはある\n",
    "◀︎資料へ戻る"
   ],
   "metadata": {}
  },
  {
   "cell_type": "markdown",
   "source": [
    "## 推測統計における確率について"
   ],
   "metadata": {}
  },
  {
   "cell_type": "code",
   "execution_count": 65,
   "source": [
    "# 全生徒の点数がどのような分布になっているか、階級幅を一点にしてヒストグラムを表示\n",
    "fig = plt.figure(figsize=(12, 6))\n",
    "ax = fig.add_subplot(111)\n",
    "ax.hist(df['score'], bins=100, range=(0, 100), density=True) # ヒストグラムの縦軸を相対度数に\n",
    "ax.set_xlim(10, 100)\n",
    "ax.set_ylim(0, 0.045)\n",
    "ax.set_xlabel('score')\n",
    "ax.set_ylabel('Relative frequency')\n",
    "plt.show()"
   ],
   "outputs": [
    {
     "output_type": "display_data",
     "data": {
      "text/plain": [
       "<Figure size 864x432 with 1 Axes>"
      ],
      "image/png": "[encoded data removed]"
     },
     "metadata": {
      "needs_background": "light"
     }
    }
   ],
   "metadata": {}
  },
  {
   "cell_type": "code",
   "execution_count": 131,
   "source": [
    "score_a = df['score']== 68\n",
    "score_b = df['score']== 80\n",
    "score_c = df['score']== 100\n",
    "print('68点の人数の相対度数:', score_a.sum()/400)\n",
    "print('80点の人数の相対度数:', score_b.sum()/400)\n",
    "print('100点の人数の相対度数:', score_c.sum()/400)"
   ],
   "outputs": [
    {
     "output_type": "stream",
     "name": "stdout",
     "text": [
      "68点の人数の相対度数: 0.04\n",
      "80点の人数の相対度数: 0.025\n",
      "100点の人数の相対度数: 0.0075\n"
     ]
    }
   ],
   "metadata": {}
  },
  {
   "cell_type": "markdown",
   "source": [
    "たとえば、68点をとった生徒は全生徒の0.04(=4%)を占めていることがわかる。このことから無作為抽出を行うと4%の確率で69点という標本データを得ることになる。<br>\n",
    "これは他の点数についても同様で、相対度数がその点数を得る確率に対応するため、このヒストグラムを母集団の確率分布とみなすことができる。<br>\n",
    "\n",
    "つまり、実際に、無作為抽出で得た20人のテストの点数は、期待値が母集団の確率分布に従う、互いに独立な確率変数$X_1,X_2,...,X_{20}$と考えることもできます。"
   ],
   "metadata": {}
  },
  {
   "cell_type": "markdown",
   "source": [
    "|点数|0|1|⋯|68|⋯|80|⋯|100|\n",
    "|:---:|:---:|:---:|:---:|:---:|:---:|:---:|:---:|:---:|\n",
    "|確率|0|0|⋯|0.04|⋯|0.25|⋯|0.0075|"
   ],
   "metadata": {}
  },
  {
   "cell_type": "markdown",
   "source": [
    "そして、それから計算される標本平均$\\bar{X} =  \\frac{X_1+X_2+...+X_{20}}{n}$もまた確率変数になっていて、試行のたびに得られる結果は異なります（無作為抽出で得た標本平均がばらばらだった）。<br>\n",
    "\n",
    "無作為抽出はこのような確率分布に従う確率変数の試行である。"
   ],
   "metadata": {}
  },
  {
   "cell_type": "markdown",
   "source": [
    "無作為抽出において、標本のサンプルサイズを増やしていくと、標本データの相対度数は上の確率分布に近づいていく。<br>\n",
    "無作為抽出によってサンプルサイズ10000の標本を抽出して、その結果をヒストグラムに図示してみる。"
   ],
   "metadata": {}
  },
  {
   "cell_type": "code",
   "execution_count": 66,
   "source": [
    "sample = np.random.choice(df['score'], 10000)\n",
    "\n",
    "fig = plt.figure(figsize=(12, 6))\n",
    "ax = fig.add_subplot(111)\n",
    "ax.hist(sample, bins=100, range=(0, 100), density=True)\n",
    "ax.set_xlim(10, 100)\n",
    "ax.set_ylim(0, 0.045)\n",
    "ax.set_xlabel('score')\n",
    "ax.set_ylabel('Relative frequency')\n",
    "plt.show()"
   ],
   "outputs": [
    {
     "output_type": "display_data",
     "data": {
      "text/plain": [
       "<Figure size 864x432 with 1 Axes>"
      ],
      "image/png": "[encoded data removed]"
     },
     "metadata": {
      "needs_background": "light"
     }
    }
   ],
   "metadata": {}
  },
  {
   "cell_type": "markdown",
   "source": [
    "サンプルサイズを増やしていけば、実際の分布に収束することがわかる。<br>\n",
    "\n",
    "最後に標本平均について。<br>\n",
    "ここでは無作為抽出でサンプルサイズ20の標本を抽出して標本平均を計算するという作業を10000回行い、その結果をヒストグラムに図示することで、標本平均の分布がどのようになるか確認する。"
   ],
   "metadata": {}
  },
  {
   "cell_type": "code",
   "execution_count": 90,
   "source": [
    "sample_means = [np.random.choice(df['score'], 20).mean() for _ in range(10000)]\n",
    "\n",
    "fig = plt.figure(figsize=(12, 6))\n",
    "ax = fig.add_subplot(111)\n",
    "ax.hist(sample_means, bins=100, range=(0, 100), density=True)\n",
    "ax.vlines(np.mean(df['score']), 0, 1, 'orange') # 母平均を縦線で表示\n",
    "ax.set_xlim(55, 85)\n",
    "ax.set_ylim(0, 0.13)\n",
    "ax.set_xlabel('score')\n",
    "ax.set_ylabel('Relative frequency')\n",
    "plt.show()"
   ],
   "outputs": [
    {
     "output_type": "display_data",
     "data": {
      "text/plain": [
       "<Figure size 864x432 with 1 Axes>"
      ],
      "image/png": "[encoded data removed]"
     },
     "metadata": {
      "needs_background": "light"
     }
    }
   ],
   "metadata": {}
  },
  {
   "cell_type": "markdown",
   "source": [
    "中央の縦線が母平均になる。標本平均にばらつきはあるものの、母平均を中心に分布することがわかる。これが無作為抽出による標本平均で母平均を推測できることの根拠になっている。\n",
    "\n",
    "これらを通して、推測統計が実際に確率を使って母集団の統計的性質を推測する手法であることを確認した。"
   ],
   "metadata": {}
  },
  {
   "cell_type": "markdown",
   "source": [],
   "metadata": {}
  }
 ],
 "metadata": {
  "orig_nbformat": 4,
  "language_info": {
   "name": "python",
   "version": "3.7.2",
   "mimetype": "text/x-python",
   "codemirror_mode": {
    "name": "ipython",
    "version": 3
   },
   "pygments_lexer": "ipython3",
   "nbconvert_exporter": "python",
   "file_extension": ".py"
  },
  "kernelspec": {
   "name": "python3",
   "display_name": "Python 3.7.2 64-bit ('stat--oFgXkwh': pipenv)"
  },
  "interpreter": {
   "hash": "37802291d0fc427d18a1eae5c303e7e39c9fc3843c248a0ec6fe2db582237ba0"
  }
 },
 "nbformat": 4,
 "nbformat_minor": 2
}